{
 "cells": [
  {
   "cell_type": "markdown",
   "id": "b15adcf3",
   "metadata": {},
   "source": [
    "## Q-5"
   ]
  },
  {
   "cell_type": "code",
   "execution_count": 1,
   "id": "342053c5",
   "metadata": {},
   "outputs": [],
   "source": [
    "import numpy as np\n",
    "from scipy import stats\n",
    "from scipy.stats import norm"
   ]
  },
  {
   "cell_type": "code",
   "execution_count": 3,
   "id": "53c3858c",
   "metadata": {},
   "outputs": [
    {
     "data": {
      "text/plain": [
       "-0.820782681668124"
      ]
     },
     "execution_count": 3,
     "metadata": {},
     "output_type": "execute_result"
    }
   ],
   "source": [
    "# Apply one Sample One-Tail z-Test \n",
    "z_scores=(0.046-0.05)/(np.sqrt((0.05*(1-0.05))/2000))\n",
    "z_scores"
   ]
  },
  {
   "cell_type": "code",
   "execution_count": 5,
   "id": "fa98757f",
   "metadata": {},
   "outputs": [],
   "source": [
    "# Find the Probability assuming \n",
    "# null Hypothesis= Mozilla has more than 5 percent or equal to 5 percent share of the market.\n",
    "# Alternative Hypothesis = Mozilla has a less than five percent share of the market."
   ]
  },
  {
   "cell_type": "code",
   "execution_count": 6,
   "id": "c60f3a86",
   "metadata": {},
   "outputs": [
    {
     "data": {
      "text/plain": [
       "0.20588503245107104"
      ]
     },
     "execution_count": 6,
     "metadata": {},
     "output_type": "execute_result"
    }
   ],
   "source": [
    "p_value=1-stats.norm.cdf(abs(z_scores))\n",
    "p_value"
   ]
  },
  {
   "cell_type": "code",
   "execution_count": 7,
   "id": "266f59d2",
   "metadata": {},
   "outputs": [],
   "source": [
    "# so as to compare with Type-1 error α = 0.05, P_value > α = 0.05=Accept Null Hypothesis"
   ]
  },
  {
   "cell_type": "code",
   "execution_count": null,
   "id": "fccb6acf",
   "metadata": {},
   "outputs": [],
   "source": [
    "# I) Mozilla has a >= 5% share of the market"
   ]
  },
  {
   "cell_type": "code",
   "execution_count": null,
   "id": "e5a2a8be",
   "metadata": {},
   "outputs": [],
   "source": [
    "# II) Mozilla has a share in the market of less than 5 percent Because 4.6 Percent share of market shows the entire population."
   ]
  }
 ],
 "metadata": {
  "kernelspec": {
   "display_name": "Python 3 (ipykernel)",
   "language": "python",
   "name": "python3"
  },
  "language_info": {
   "codemirror_mode": {
    "name": "ipython",
    "version": 3
   },
   "file_extension": ".py",
   "mimetype": "text/x-python",
   "name": "python",
   "nbconvert_exporter": "python",
   "pygments_lexer": "ipython3",
   "version": "3.9.13"
  }
 },
 "nbformat": 4,
 "nbformat_minor": 5
}
